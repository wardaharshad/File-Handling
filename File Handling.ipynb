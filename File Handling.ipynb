{
 "cells": [
  {
   "cell_type": "code",
   "execution_count": null,
   "id": "a80c22f3",
   "metadata": {},
   "outputs": [],
   "source": [
    "#Reading a file"
   ]
  },
  {
   "cell_type": "code",
   "execution_count": 6,
   "id": "f97db828",
   "metadata": {},
   "outputs": [],
   "source": [
    "file = open(\"demo.txt\",\"r\")"
   ]
  },
  {
   "cell_type": "code",
   "execution_count": 4,
   "id": "6cce99f6",
   "metadata": {},
   "outputs": [
    {
     "name": "stdout",
     "output_type": "stream",
     "text": [
      "Assalam o Alaikum\n",
      "\n"
     ]
    }
   ],
   "source": [
    "print(file.readline())\n",
    "print(file.readline())"
   ]
  },
  {
   "cell_type": "code",
   "execution_count": 7,
   "id": "78f3d5ff",
   "metadata": {},
   "outputs": [
    {
     "name": "stdout",
     "output_type": "stream",
     "text": [
      "Hello Wardah\n",
      "Assalam o Alaikum\n"
     ]
    }
   ],
   "source": [
    "print(file.read())"
   ]
  },
  {
   "cell_type": "code",
   "execution_count": 8,
   "id": "1596ee82",
   "metadata": {},
   "outputs": [],
   "source": [
    "file.close()"
   ]
  },
  {
   "cell_type": "code",
   "execution_count": null,
   "id": "c618783f",
   "metadata": {},
   "outputs": [],
   "source": [
    "#Updating/Writing in a File"
   ]
  },
  {
   "cell_type": "code",
   "execution_count": 9,
   "id": "558d0051",
   "metadata": {},
   "outputs": [
    {
     "data": {
      "text/plain": [
       "16"
      ]
     },
     "execution_count": 9,
     "metadata": {},
     "output_type": "execute_result"
    }
   ],
   "source": [
    "f = open(\"demo.txt\",\"w\")\n",
    "f.write(\"Hello again dude\")"
   ]
  },
  {
   "cell_type": "code",
   "execution_count": 10,
   "id": "e4cce90c",
   "metadata": {},
   "outputs": [],
   "source": [
    "f.close()"
   ]
  },
  {
   "cell_type": "code",
   "execution_count": null,
   "id": "f22775df",
   "metadata": {},
   "outputs": [],
   "source": [
    "#Creating a file"
   ]
  },
  {
   "cell_type": "code",
   "execution_count": 11,
   "id": "947d55c5",
   "metadata": {},
   "outputs": [
    {
     "data": {
      "text/plain": [
       "12"
      ]
     },
     "execution_count": 11,
     "metadata": {},
     "output_type": "execute_result"
    }
   ],
   "source": [
    "a = open(\"text.txt\",\"x\")\n",
    "a.write(\"Welcome Home\")"
   ]
  },
  {
   "cell_type": "code",
   "execution_count": 12,
   "id": "9dea44c4",
   "metadata": {},
   "outputs": [],
   "source": [
    "a.close()"
   ]
  },
  {
   "cell_type": "code",
   "execution_count": null,
   "id": "fb6c7c7b",
   "metadata": {},
   "outputs": [],
   "source": [
    "#Append in a file"
   ]
  },
  {
   "cell_type": "code",
   "execution_count": 13,
   "id": "8f4f2084",
   "metadata": {},
   "outputs": [],
   "source": [
    "a = open(\"text.txt\", \"a\")\n",
    "a.write(\"\\nWardah Arshad\")\n",
    "a.close()"
   ]
  },
  {
   "cell_type": "code",
   "execution_count": null,
   "id": "229ddf25",
   "metadata": {},
   "outputs": [],
   "source": [
    "#Delete a file"
   ]
  },
  {
   "cell_type": "code",
   "execution_count": 15,
   "id": "157baa22",
   "metadata": {},
   "outputs": [],
   "source": [
    "import os\n",
    "os.remove(\"demo.txt\")"
   ]
  },
  {
   "cell_type": "code",
   "execution_count": 16,
   "id": "3a850350",
   "metadata": {},
   "outputs": [],
   "source": [
    "f = open(\"text.txt\", \"w\")"
   ]
  },
  {
   "cell_type": "code",
   "execution_count": 17,
   "id": "731ddef3",
   "metadata": {},
   "outputs": [
    {
     "ename": "PermissionError",
     "evalue": "[WinError 32] The process cannot access the file because it is being used by another process: 'text.txt'",
     "output_type": "error",
     "traceback": [
      "\u001b[1;31m---------------------------------------------------------------------------\u001b[0m",
      "\u001b[1;31mPermissionError\u001b[0m                           Traceback (most recent call last)",
      "Input \u001b[1;32mIn [17]\u001b[0m, in \u001b[0;36m<cell line: 1>\u001b[1;34m()\u001b[0m\n\u001b[1;32m----> 1\u001b[0m \u001b[43mos\u001b[49m\u001b[38;5;241;43m.\u001b[39;49m\u001b[43mremove\u001b[49m\u001b[43m(\u001b[49m\u001b[38;5;124;43m\"\u001b[39;49m\u001b[38;5;124;43mtext.txt\u001b[39;49m\u001b[38;5;124;43m\"\u001b[39;49m\u001b[43m)\u001b[49m\n",
      "\u001b[1;31mPermissionError\u001b[0m: [WinError 32] The process cannot access the file because it is being used by another process: 'text.txt'"
     ]
    }
   ],
   "source": [
    "os.remove(\"text.txt\")"
   ]
  },
  {
   "cell_type": "code",
   "execution_count": null,
   "id": "a31d2f5e",
   "metadata": {},
   "outputs": [],
   "source": [
    "#File Handling with OOPs"
   ]
  },
  {
   "cell_type": "code",
   "execution_count": 20,
   "id": "df67c8a5",
   "metadata": {},
   "outputs": [
    {
     "name": "stdout",
     "output_type": "stream",
     "text": [
      "Ahmed Ali\n",
      "Enter your number of working hours20\n",
      "Successfully written\n",
      "Bilal Shahid\n",
      "Enter your number of working hours45\n",
      "Successfully written\n"
     ]
    }
   ],
   "source": [
    "class Employee:\n",
    "    def __init__(self,name,designation):\n",
    "        self.name = name\n",
    "        self.designation = designation\n",
    "        \n",
    "    def payroll(self):\n",
    "        hours= int(input(\"Enter your number of working hours\"))\n",
    "        salary = hours * 300\n",
    "        with open(\"salary.txt\",\"a\") as f:\n",
    "            f.write(str(salary)+ \"\\n\")\n",
    "            print(\"Successfully written\")\n",
    "            \n",
    "Ahmed = Employee(\"Ahmed Ali\",\"IT manager\")\n",
    "Bilal = Employee(\"Bilal Shahid\",\"Finance manager\")\n",
    "print(Ahmed.name)\n",
    "Ahmed.payroll()\n",
    "print(Bilal.name)\n",
    "Bilal.payroll()"
   ]
  },
  {
   "cell_type": "code",
   "execution_count": null,
   "id": "ed5b592f",
   "metadata": {},
   "outputs": [],
   "source": []
  }
 ],
 "metadata": {
  "kernelspec": {
   "display_name": "Python 3 (ipykernel)",
   "language": "python",
   "name": "python3"
  },
  "language_info": {
   "codemirror_mode": {
    "name": "ipython",
    "version": 3
   },
   "file_extension": ".py",
   "mimetype": "text/x-python",
   "name": "python",
   "nbconvert_exporter": "python",
   "pygments_lexer": "ipython3",
   "version": "3.8.9"
  }
 },
 "nbformat": 4,
 "nbformat_minor": 5
}
